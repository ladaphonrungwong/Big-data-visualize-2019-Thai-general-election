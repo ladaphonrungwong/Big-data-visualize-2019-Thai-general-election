{
 "cells": [
  {
   "cell_type": "code",
   "execution_count": 14,
   "metadata": {},
   "outputs": [],
   "source": [
    "try:\n",
    "    import json\n",
    "except ImportError:\n",
    "    import simplejson as json\n",
    "import tweepy\n",
    "ACCESS_TOKEN = \"354442110-kO801M3Ng1qajgaA04Ob1X8nqOATHU3JbkLxKIoz\"\n",
    "ACCESS_SECRET = \"jfvmyGQQ8ApAewLlI5oo5GwUcpqawIh243T6tAstJ6Hro\"\n",
    "CONSUMER_KEY = \"OsuOzkWeTgSmweKZ07uGF1GGm\"\n",
    "CONSUMER_SECRET = \"e24zvacHX0EuGuJtxblhvpPdBXyy0JzESQqN3niXyAnZVHqBag\"\n",
    "auth = tweepy.OAuthHandler(CONSUMER_KEY, CONSUMER_SECRET)\n",
    "auth.set_access_token(ACCESS_TOKEN, ACCESS_SECRET)\n",
    "api = tweepy.API(auth, wait_on_rate_limit=True, wait_on_rate_limit_notify=True, compression=True)\n"
   ]
  },
  {
   "cell_type": "code",
   "execution_count": 16,
   "metadata": {},
   "outputs": [
    {
     "name": "stderr",
     "output_type": "stream",
     "text": [
      "C:\\Users\\Asus\\myConda\\Anaconda3\\lib\\site-packages\\ipykernel_launcher.py:10: DeprecationWarning: insert is deprecated. Use insert_one or insert_many instead.\n",
      "  # Remove the CWD from sys.path while we load stuff.\n"
     ]
    }
   ],
   "source": [
    "from pymongo import MongoClient\n",
    "client = MongoClient()\n",
    "db = client[\"TTdb\"]\n",
    "TTcol = db.TTcol\n",
    "\n",
    "\n",
    "keyword = 'เลือกตั้ง OR การเมือง'\n",
    "# keyword = 'twitter'\n",
    "for status in tweepy.Cursor(api.search, q=keyword , count=3, lang='th').items(3):\n",
    "    TTcol.insert(status._json)"
   ]
  },
  {
   "cell_type": "code",
   "execution_count": 17,
   "metadata": {},
   "outputs": [
    {
     "name": "stdout",
     "output_type": "stream",
     "text": [
      "['TTdb', 'admin', 'config', 'local', 'mongodbDataBase1', 'mydb', 'pymongo_test']\n",
      "['TTcol']\n"
     ]
    }
   ],
   "source": [
    "# TTcol.drop() \n",
    "print(client.list_database_names())\n",
    "print(db.list_collection_names())"
   ]
  },
  {
   "cell_type": "code",
   "execution_count": 19,
   "metadata": {},
   "outputs": [],
   "source": [
    "# for x in TTcol.find():\n",
    "#     print(x) \n",
    "#     print(\"\\n\\n\\n\\n\\n______________________________________________________________________\") "
   ]
  },
  {
   "cell_type": "code",
   "execution_count": null,
   "metadata": {},
   "outputs": [],
   "source": []
  }
 ],
 "metadata": {
  "kernelspec": {
   "display_name": "Python 3",
   "language": "python",
   "name": "python3"
  },
  "language_info": {
   "codemirror_mode": {
    "name": "ipython",
    "version": 3
   },
   "file_extension": ".py",
   "mimetype": "text/x-python",
   "name": "python",
   "nbconvert_exporter": "python",
   "pygments_lexer": "ipython3",
   "version": "3.7.1"
  }
 },
 "nbformat": 4,
 "nbformat_minor": 2
}
